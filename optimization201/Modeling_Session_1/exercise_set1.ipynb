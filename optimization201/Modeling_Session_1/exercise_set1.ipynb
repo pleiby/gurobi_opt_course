{
  "nbformat": 4,
  "nbformat_minor": 0,
  "metadata": {
    "colab": {
      "provenance": [],
      "toc_visible": true
    },
    "kernelspec": {
      "name": "python3",
      "display_name": "Python 3"
    },
    "language_info": {
      "name": "python"
    }
  },
  "cells": [
    {
      "cell_type": "markdown",
      "source": [
        "# Exercise Set 1\n"
      ],
      "metadata": {
        "id": "rklMFAsZnk_9"
      }
    },
    {
      "cell_type": "markdown",
      "source": [
        "## Multiple choice\n",
        "**Q1.** All projects that can utilize mathematical optimization identify this well identified well in advance.\n",
        "> TRUE\n",
        "\n",
        "> FALSE\n",
        "\n",
        "**Q2.** The core value of machine learning lies in the _________ used to fit models. In mathematical optimization, the _________ carries most of the value.\n",
        ">a. platform, GPU\n",
        "\n",
        ">b. data, algorithms\n",
        "\n",
        ">c. algorithms, indutstry\n",
        "\n",
        ">d. parallelization, data\n",
        "\n",
        "**Q3.** Heuristics often have a way to know how far a current solution may be from the optimal solution.\n",
        "> TRUE\n",
        "\n",
        "> FALSE\n",
        "\n",
        "**Q4.** While it is good to note the size of a mathematical optimization problem in terms of the number of variables and contraints, it is far from a reliable way to measure how long it will take to solve.\n",
        "> TRUE\n",
        "\n",
        ">FALSE"
      ],
      "metadata": {
        "id": "xxzIRHkEw3Um"
      }
    },
    {
      "cell_type": "markdown",
      "source": [
        "## Free Responses\n",
        "````\n",
        "I suggest getting some paper and pencil here for some of these\n",
        "````\n",
        "**Q5.** Apply `DeMorgan's laws` to the following statements. Final answers should only use the $=$, $\\le$, and $\\ge$ comparison symbols, where applicable.\n",
        ">a. Not (Python or R).\n",
        "\n",
        ">b. It's not the case that both $x$ is equal to 0 and $y$ is positive.\n",
        "\n",
        "**Q6.** Let $a$ be the amount of snow that falls over night and $b$ is a binary variable indicating if school is open ($b=1$) or closed ($b=0$). Use this, and the `IF-THEN` to an `OR` statement equivalence to rewrite this statement: \"If it snows at least than 8 inches overnight, then school will be closed tomorrow.\"\n",
        "\n",
        "**Q7.** Write the `contrapositive` of \"If Duke is late for a meeting, that's becuase he was out surfing.\"\n",
        "\n",
        "**Q8.** In the **Using Big M Constraints** section of this sessions notebook, we used the following inequality $x + M_2 \\times z \\ge C$.\n",
        ">a. Simplify this inequality using  $𝐶=𝑀_2$\n",
        "\n",
        ">b. The other clause of the `OR` statement this comes from was $x \\le M_1\\times(1-z)$. Write out what these two inqualities reduce to when $z = 1$ and $z = 0$."
      ],
      "metadata": {
        "id": "4g1g9c6LpDCd"
      }
    },
    {
      "cell_type": "markdown",
      "source": [
        "## Formulation and Coding\n",
        "**Q9.** In the **Constrainting production facilities** section of the Modeling Exmple 1 notebook, when adding the $y$ decision variables for opening production facilities, assume there are fixed costs, given by the list `[180, 150, 120, 155, 175]` for activating each respective distribution center. Write `gurobipy` code that will add these costs to the original objective function.\n",
        "\n",
        "**Q10.** Write `gurobipy` code using indicator constraints to rewrite the following. Both parts reference the decision variables in the Modeling Example 1 notebook.\n",
        ">a. The link between $x_{p,d}$ and $y_p$.\n",
        "\n",
        ">b. If Cleveland and Baltimore are open, then charleston must be closed\n",
        "\n",
        "**Homework (optional):** Formulate the **Regional restriction** constraint as a big M constraint (this one may be a bit difficult for non-experts).\n",
        "\n",
        "\"If the production facility in *Charleston* is open then *Cleveland* and *Baltimore* cannot be open.\""
      ],
      "metadata": {
        "id": "0HiQb2A8RUHy"
      }
    },
    {
      "cell_type": "code",
      "source": [],
      "metadata": {
        "id": "TM8a0FOfyInf"
      },
      "execution_count": null,
      "outputs": []
    }
  ]
}